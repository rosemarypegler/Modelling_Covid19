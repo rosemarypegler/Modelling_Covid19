{
 "cells": [
  {
   "cell_type": "code",
   "execution_count": 1,
   "metadata": {},
   "outputs": [],
   "source": [
    "import numpy as np\n",
    "import pandas as pd\n",
    "import matplotlib.pyplot as plt"
   ]
  },
  {
   "cell_type": "markdown",
   "metadata": {
    "colab_type": "text",
    "id": "CfO9N8nfvWy7"
   },
   "source": [
    "## Data"
   ]
  },
  {
   "cell_type": "code",
   "execution_count": 2,
   "metadata": {
    "colab": {},
    "colab_type": "code",
    "executionInfo": {
     "elapsed": 19650,
     "status": "ok",
     "timestamp": 1592907633942,
     "user": {
      "displayName": "Rosemary Pegler",
      "photoUrl": "",
      "userId": "07656239397082524674"
     },
     "user_tz": -60
    },
    "id": "I5rccHlSNoVk"
   },
   "outputs": [],
   "source": [
    "# Imports data from Github (Rami Krispin) - dataset is compiled from John Hopkins University\n",
    "data = pd.read_csv('https://raw.githubusercontent.com/RamiKrispin/coronavirus/master/csv/coronavirus.csv')"
   ]
  },
  {
   "cell_type": "code",
   "execution_count": 3,
   "metadata": {
    "colab": {},
    "colab_type": "code",
    "id": "c_XGAi7LPxaS"
   },
   "outputs": [],
   "source": [
    "data['date'] = pd.to_datetime(data['date'], dayfirst=True)"
   ]
  },
  {
   "cell_type": "code",
   "execution_count": 4,
   "metadata": {
    "colab": {
     "base_uri": "https://localhost:8080/",
     "height": 68
    },
    "colab_type": "code",
    "executionInfo": {
     "elapsed": 16399,
     "status": "ok",
     "timestamp": 1592231285830,
     "user": {
      "displayName": "Rosemary Pegler",
      "photoUrl": "",
      "userId": "07656239397082524674"
     },
     "user_tz": -60
    },
    "id": "ADP01VHFOJsE",
    "outputId": "cbd8320d-00ac-4f52-b9b7-26af3e2a7f4a"
   },
   "outputs": [
    {
     "name": "stdout",
     "output_type": "stream",
     "text": [
      "There are currently 188 countries in this dataset\n",
      "This dataset ranges from 2020-01-22 00:00:00 to 2020-07-18 00:00:00\n",
      "It gives the numbers of people who have confirmed coronavirus, have died, or have recovered\n"
     ]
    }
   ],
   "source": [
    "print('There are currently', len(data['country'].unique()), 'countries in this dataset')\n",
    "print('This dataset ranges from', data.date.min(), 'to', data.date.max())\n",
    "print('It gives the numbers of people who have confirmed coronavirus, have died, or have recovered')"
   ]
  },
  {
   "cell_type": "code",
   "execution_count": 5,
   "metadata": {
    "colab": {},
    "colab_type": "code",
    "id": "ZFDR7Ksm9byp"
   },
   "outputs": [],
   "source": [
    "del data['lat']\n",
    "del data['long']"
   ]
  },
  {
   "cell_type": "markdown",
   "metadata": {
    "colab_type": "text",
    "id": "HlvAPR2NY8R4"
   },
   "source": [
    "## Initial analysis"
   ]
  },
  {
   "cell_type": "markdown",
   "metadata": {},
   "source": [
    "The full dataset contains data for all countries affected by Covid-19. The dissertation, however, solely focuses on Italy (currently)"
   ]
  },
  {
   "cell_type": "code",
   "execution_count": 6,
   "metadata": {
    "colab": {},
    "colab_type": "code",
    "id": "kzPcgill_4cJ"
   },
   "outputs": [],
   "source": [
    "# A function that gets data for a specific country\n",
    "# Ensures that the start date is the date of the first confirmed case\n",
    "def country_dataset(data, country):\n",
    "    cdata = data[(data['country']==country)&(data.type=='confirmed')]\n",
    "    start_date = cdata[cdata.cases>0]['date'].min()\n",
    "    \n",
    "    cdata = data[(data['country']==country)&(data.date>=start_date)]\n",
    "    cdata = cdata.groupby(['date', 'type']).sum()\n",
    "    cdata.reset_index(inplace=True)\n",
    "\n",
    "    data = cdata[cdata.type == 'confirmed'].groupby('date').sum()\n",
    "    data.reset_index(inplace=True)\n",
    "    data.columns = ['date','confirmed']\n",
    "    dr = cdata[cdata.type != 'confirmed']\n",
    "    data['removed'] = dr.groupby('date').sum().cases.values\n",
    "    r = cdata[cdata.type == 'recovered']\n",
    "    data['recovered'] = r.groupby('date').sum().cases.values\n",
    "    d = cdata[cdata.type == 'death']\n",
    "    data['death'] = d.groupby('date').sum().cases.values\n",
    "\n",
    "    # Need to use cumulative sum instead of daily cases\n",
    "    data['sumconfirmed'] = data.confirmed.cumsum()\n",
    "    data['sumremoved'] = data.removed.cumsum()\n",
    "    data['sumrecovered'] = data.recovered.cumsum()\n",
    "    data['sumdeath'] = data.death.cumsum()\n",
    "\n",
    "    data['suminfected'] = np.array(data.sumconfirmed) - np.array(data.sumremoved)\n",
    "    data.sumconfirmed[data.sumconfirmed<0] = 0\n",
    "    data.suminfected[data.suminfected<0] = 0\n",
    "\n",
    "    return data"
   ]
  },
  {
   "cell_type": "markdown",
   "metadata": {
    "colab_type": "text",
    "id": "JsLRDdombVPW"
   },
   "source": [
    "### United Kingdom"
   ]
  },
  {
   "cell_type": "code",
   "execution_count": 11,
   "metadata": {
    "colab": {
     "base_uri": "https://localhost:8080/",
     "height": 520
    },
    "colab_type": "code",
    "executionInfo": {
     "elapsed": 11555,
     "status": "ok",
     "timestamp": 1592231286744,
     "user": {
      "displayName": "Rosemary Pegler",
      "photoUrl": "",
      "userId": "07656239397082524674"
     },
     "user_tz": -60
    },
    "id": "dLBIVhSdEfLs",
    "outputId": "e48000ee-be1c-4b0d-96d2-47b8de702eae"
   },
   "outputs": [
    {
     "name": "stderr",
     "output_type": "stream",
     "text": [
      "C:\\Users\\Rose Pegler\\anaconda3\\lib\\site-packages\\ipykernel_launcher.py:28: SettingWithCopyWarning: \n",
      "A value is trying to be set on a copy of a slice from a DataFrame\n",
      "\n",
      "See the caveats in the documentation: https://pandas.pydata.org/pandas-docs/stable/user_guide/indexing.html#returning-a-view-versus-a-copy\n",
      "C:\\Users\\Rose Pegler\\anaconda3\\lib\\site-packages\\ipykernel_launcher.py:29: SettingWithCopyWarning: \n",
      "A value is trying to be set on a copy of a slice from a DataFrame\n",
      "\n",
      "See the caveats in the documentation: https://pandas.pydata.org/pandas-docs/stable/user_guide/indexing.html#returning-a-view-versus-a-copy\n"
     ]
    },
    {
     "data": {
      "text/plain": [
       "<matplotlib.legend.Legend at 0x22e4211f808>"
      ]
     },
     "execution_count": 11,
     "metadata": {},
     "output_type": "execute_result"
    },
    {
     "data": {
      "image/png": "[encoded data removed]",
      "text/plain": [
       "<Figure size 432x288 with 1 Axes>"
      ]
     },
     "metadata": {
      "needs_background": "light"
     },
     "output_type": "display_data"
    }
   ],
   "source": [
    "# UK has not reported recovered cases which skews the data\n",
    "ukdata = country_dataset(data, 'United Kingdom')\n",
    "ukdata.suminfected.plot(label='Infected')\n",
    "ukdata.sumrecovered.plot(label='Recovered')\n",
    "ukdata.sumdeath.plot(label='Died')\n",
    "plt.legend()"
   ]
  },
  {
   "cell_type": "markdown",
   "metadata": {
    "colab_type": "text",
    "id": "gpcwnRxlXWPd"
   },
   "source": [
    "### Italy"
   ]
  },
  {
   "cell_type": "code",
   "execution_count": 12,
   "metadata": {
    "colab": {
     "base_uri": "https://localhost:8080/",
     "height": 503
    },
    "colab_type": "code",
    "executionInfo": {
     "elapsed": 8714,
     "status": "ok",
     "timestamp": 1592231286760,
     "user": {
      "displayName": "Rosemary Pegler",
      "photoUrl": "",
      "userId": "07656239397082524674"
     },
     "user_tz": -60
    },
    "id": "O8WNkGOEHBXa",
    "outputId": "e8415299-0ca2-48a7-bb98-770b2e83f41f"
   },
   "outputs": [
    {
     "name": "stderr",
     "output_type": "stream",
     "text": [
      "C:\\Users\\Rose Pegler\\anaconda3\\lib\\site-packages\\ipykernel_launcher.py:28: SettingWithCopyWarning: \n",
      "A value is trying to be set on a copy of a slice from a DataFrame\n",
      "\n",
      "See the caveats in the documentation: https://pandas.pydata.org/pandas-docs/stable/user_guide/indexing.html#returning-a-view-versus-a-copy\n",
      "C:\\Users\\Rose Pegler\\anaconda3\\lib\\site-packages\\ipykernel_launcher.py:29: SettingWithCopyWarning: \n",
      "A value is trying to be set on a copy of a slice from a DataFrame\n",
      "\n",
      "See the caveats in the documentation: https://pandas.pydata.org/pandas-docs/stable/user_guide/indexing.html#returning-a-view-versus-a-copy\n"
     ]
    },
    {
     "data": {
      "image/png": "[encoded data removed]",
      "text/plain": [
       "<Figure size 432x288 with 1 Axes>"
      ]
     },
     "metadata": {
      "needs_background": "light"
     },
     "output_type": "display_data"
    }
   ],
   "source": [
    "italy = country_dataset(data, 'Italy')\n",
    "italy.suminfected.plot(label='Infected')\n",
    "italy.sumrecovered.plot(label='Recovered')\n",
    "italy.sumdeath.plot(label='Died')\n",
    "plt.legend()\n",
    "\n",
    "# Transfer Italy data to its own csv file\n",
    "italy.to_csv('italycovid19.csv')"
   ]
  },
  {
   "cell_type": "markdown",
   "metadata": {
    "colab_type": "text",
    "id": "LSGPck0OH45v"
   },
   "source": [
    "## China"
   ]
  },
  {
   "cell_type": "code",
   "execution_count": 12,
   "metadata": {
    "colab": {
     "base_uri": "https://localhost:8080/",
     "height": 520
    },
    "colab_type": "code",
    "executionInfo": {
     "elapsed": 7115,
     "status": "ok",
     "timestamp": 1592231287353,
     "user": {
      "displayName": "Rosemary Pegler",
      "photoUrl": "",
      "userId": "07656239397082524674"
     },
     "user_tz": -60
    },
    "id": "g22JLq_AH_TV",
    "outputId": "ff8843bc-cb9d-41d6-d7ac-5abedfcf2141"
   },
   "outputs": [
    {
     "name": "stderr",
     "output_type": "stream",
     "text": [
      "C:\\Users\\Rose Pegler\\anaconda3\\lib\\site-packages\\ipykernel_launcher.py:28: SettingWithCopyWarning: \n",
      "A value is trying to be set on a copy of a slice from a DataFrame\n",
      "\n",
      "See the caveats in the documentation: https://pandas.pydata.org/pandas-docs/stable/user_guide/indexing.html#returning-a-view-versus-a-copy\n",
      "C:\\Users\\Rose Pegler\\anaconda3\\lib\\site-packages\\ipykernel_launcher.py:29: SettingWithCopyWarning: \n",
      "A value is trying to be set on a copy of a slice from a DataFrame\n",
      "\n",
      "See the caveats in the documentation: https://pandas.pydata.org/pandas-docs/stable/user_guide/indexing.html#returning-a-view-versus-a-copy\n"
     ]
    },
    {
     "data": {
      "text/plain": [
       "<matplotlib.legend.Legend at 0x254550792c8>"
      ]
     },
     "execution_count": 12,
     "metadata": {},
     "output_type": "execute_result"
    },
    {
     "data": {
      "image/png": "[encoded data removed]",
      "text/plain": [
       "<Figure size 432x288 with 1 Axes>"
      ]
     },
     "metadata": {
      "needs_background": "light"
     },
     "output_type": "display_data"
    }
   ],
   "source": [
    "china = country_dataset(data, 'China')\n",
    "china.suminfected.plot(label='Infected')\n",
    "china.sumrecovered.plot(label='Recovered')\n",
    "china.sumdeath.plot(label='Died')\n",
    "plt.legend()"
   ]
  }
 ],
 "metadata": {
  "kernelspec": {
   "display_name": "Python 3",
   "language": "python",
   "name": "python3"
  },
  "language_info": {
   "codemirror_mode": {
    "name": "ipython",
    "version": 3
   },
   "file_extension": ".py",
   "mimetype": "text/x-python",
   "name": "python",
   "nbconvert_exporter": "python",
   "pygments_lexer": "ipython3",
   "version": "3.7.6"
  }
 },
 "nbformat": 4,
 "nbformat_minor": 4
}
